{
  "nbformat": 4,
  "nbformat_minor": 0,
  "metadata": {
    "colab": {
      "private_outputs": true,
      "provenance": [],
      "collapsed_sections": [
        "FJNUwmbgGyua",
        "w6K7xa23Elo4",
        "yQaldy8SH6Dl",
        "PH-0ReGfmX4f",
        "mDgbUHAGgjLW",
        "Y3lxredqlCYt",
        "3RnN4peoiCZX",
        "x71ZqKXriCWQ",
        "7hBIi_osiCS2",
        "JlHwYmJAmNHm",
        "H0kj-8xxnORC",
        "nA9Y7ga8ng1Z",
        "PBTbrJXOngz2",
        "u3PMJOP6ngxN",
        "PDcdeiDjd-6T",
        "AkQckNIUl3oN",
        "dX1niFsomVHg",
        "KWiQZQONp0qy",
        "ZBu-H-JlEv_L",
        "MSa1f5Uengrz",
        "YVwtTIajIHYN",
        "KSlN3yHqYklG",
        "p_yn0Ir3qJcc",
        "-JiQyfWJYklI",
        "EM7whBJCYoAo",
        "ii2UgWWpCd16",
        "4Of9eVA-YrdM",
        "P3I2vo1RZQRb",
        "bamQiAODYuh1",
        "87nAu3ibf1zq",
        "OH-pJp9IphqM",
        "Seke61FWphqN",
        "PIIx-8_IphqN",
        "t27r6nlMphqO",
        "r2jJGEOYphqO",
        "b0JNsNcRphqO",
        "BZR9WyysphqO",
        "jj7wYXLtphqO",
        "eZrbJ2SmphqO",
        "rFu4xreNphqO",
        "YJ55k-q6phqO",
        "gCFgpxoyphqP",
        "OVtJsKN_phqQ",
        "lssrdh5qphqQ",
        "U2RJ9gkRphqQ",
        "1M8mcRywphqQ",
        "tgIPom80phqQ",
        "JMzcOPDDphqR",
        "n3dbpmDWp1ck",
        "ylSl6qgtp1ck",
        "ZWILFDl5p1ck",
        "M7G43BXep1ck",
        "Ag9LCva-p1cl",
        "E6MkPsBcp1cl",
        "2cELzS2fp1cl",
        "3MPXvC8up1cl",
        "NC_X3p0fY2L0",
        "UV0SzAkaZNRQ",
        "YPEH6qLeZNRQ",
        "q29F0dvdveiT",
        "EXh0U9oCveiU",
        "22aHeOlLveiV",
        "JcMwzZxoAimU",
        "8G2x9gOozGDZ",
        "gCX9965dhzqZ",
        "gIfDvo9L0UH2"
      ],
      "include_colab_link": true
    },
    "kernelspec": {
      "name": "python3",
      "display_name": "Python 3"
    },
    "language_info": {
      "name": "python"
    }
  },
  "cells": [
    {
      "cell_type": "markdown",
      "metadata": {
        "id": "view-in-github",
        "colab_type": "text"
      },
      "source": [
        "<a href=\"https://colab.research.google.com/github/Prateek0808/P1-Hotel-Booking-Analysis/blob/main/Prateek_Singh's_contribution.ipynb\" target=\"_parent\"><img src=\"https://colab.research.google.com/assets/colab-badge.svg\" alt=\"Open In Colab\"/></a>"
      ]
    },
    {
      "cell_type": "markdown",
      "source": [
        "# **Project Name**    - \n",
        "\n"
      ],
      "metadata": {
        "id": "vncDsAP0Gaoa"
      }
    },
    {
      "cell_type": "markdown",
      "source": [
        "##### **Project Type**    - EDA/Regression/Classification/Unsupervised\n",
        "##### **Contribution**    - Individual/Team\n",
        "##### **Team Member 1 -**Prateek Kumar Singh\n",
        "##### **Team Member 2 -**Ankit Anand\n",
        "##### **Team Member 3 -**Ayush Jha\n",
        "##### **Team Member 4 -**Vishal Saxena"
      ],
      "metadata": {
        "id": "beRrZCGUAJYm"
      }
    },
    {
      "cell_type": "markdown",
      "source": [
        "# **Project Summary -**"
      ],
      "metadata": {
        "id": "FJNUwmbgGyua"
      }
    },
    {
      "cell_type": "markdown",
      "source": [
        "Suppose, you owns different hotels across many countries around the world. Your hotel business is doing good but not great. So you want to improve your hotel business, but to do so you have to analyze data of the hotel and gain some insights of the activities going at your hotels. \n",
        "\n",
        "To do so you collected the dataset of the hotels. This data set contains booking information for a city hotel and a resort hotel, and includes information such as when the booking was made, length of stay, the number of adults, children, and/or babies, and the number of available parking spaces, guest details etc. from 2015 to 2017. \n",
        "\n",
        "After cleaning this data you transform it into meaningful form and draw insights from it.\n",
        "It can give answer to your queries relevant to your booking information such as - \n",
        "when the best time of year to book a hotel room is?\n",
        "The optimal length of stay in order to get the best daily rate?\n",
        "What if you wanted to predict whether or not a hotel was likely to receive a disproportionately high number of special requests?\n",
        "\n",
        "And congrats! you have got all.\n",
        "\n",
        "In this project we will do the above analysis using python and it's fabulous libraries like numpy and pandas. we have done visualisation with the help of the incredible libraries of python, those are matplotlib and seaborn.\n",
        "We will be performing exploratory data analysis to get our desired insights from the given dataset of hotel booking information.\n",
        "\n",
        "Exploratory Data Analysis helps us to –\n",
        "\n",
        "*   To give insight into a data set.\n",
        "*   Understand the underlying structure.\n",
        "*   Extract important parameters and relationships that hold between them.\n",
        "*   Test underlying assumptions\n",
        "\n",
        "This data set is ideal for anyone looking to practice their exploratory data analysis (EDA) or get started in building predictive models!\n",
        "\n",
        "We can divide the Hotel Booking EDA into 2 sections:\n",
        "\n",
        "\n",
        "*  In the first part we deal with Data Collection, Data Exploration, Data Cleaning, etc.\n",
        "\n",
        "*  In the second part we extract information from our data and try to answer some really important questions that govern the bookings.\n",
        "\n",
        "The steps we followed are -\n",
        "\n",
        "*   \n",
        "  Cleanig the data.\n",
        "*   Analysing it.\n",
        "*   Answer the questions through Visualisation.\n",
        "\n"
      ],
      "metadata": {
        "id": "SkSFjjwAT2FX"
      }
    },
    {
      "cell_type": "markdown",
      "source": [
        "Write the summary here within 500-600 words."
      ],
      "metadata": {
        "id": "F6v_1wHtG2nS"
      }
    },
    {
      "cell_type": "markdown",
      "source": [
        "# **GitHub Link -**"
      ],
      "metadata": {
        "id": "w6K7xa23Elo4"
      }
    },
    {
      "cell_type": "markdown",
      "source": [
        "https://github.com/Prateek0808/P1-Hotel-Booking-Analysis"
      ],
      "metadata": {
        "id": "h1o69JH3Eqqn"
      }
    },
    {
      "cell_type": "markdown",
      "source": [
        "# **Problem Statement**\n"
      ],
      "metadata": {
        "id": "yQaldy8SH6Dl"
      }
    },
    {
      "cell_type": "markdown",
      "source": [
        "**To understand customer behavior, identify trends and patterns in bookings, and optimize hotel revenue. This may involve analyzing factors such as booking date, room type, booking source, customer demographics, and other related variables to gain insights into booking patterns and make data-driven decisions to improve hotel performance. \n",
        "Additionally, the analysis may aim to identify opportunities for upselling and cross-selling, as well as to detect and prevent booking errors.**"
      ],
      "metadata": {
        "id": "DpeJGUA3kjGy"
      }
    },
    {
      "cell_type": "markdown",
      "source": [
        "#### **Define Your Business Objective?**"
      ],
      "metadata": {
        "id": "PH-0ReGfmX4f"
      }
    },
    {
      "cell_type": "markdown",
      "source": [
        "The main business objective of hotel booking analysis is to gather insights and make informed decisions to improve the performance and profitability of a hotel. This can include analyzing booking trends, customer behavior, market trends, and competition, to optimize pricing, promotions, and marketing strategies. \n",
        "\n",
        "Additionally, it can also help in identifying areas for improvement in the customer experience, such as room service, amenities, and facilities. The ultimate goal is to increase occupancy rates, revenue, customer satisfaction, and loyalty."
      ],
      "metadata": {
        "id": "PhDvGCAqmjP1"
      }
    },
    {
      "cell_type": "markdown",
      "source": [
        "# **General Guidelines** : -  "
      ],
      "metadata": {
        "id": "mDgbUHAGgjLW"
      }
    },
    {
      "cell_type": "markdown",
      "source": [
        "1.   Well-structured, formatted, and commented code is required. \n",
        "2.   Exception Handling, Production Grade Code & Deployment Ready Code will be a plus. Those students will be awarded some additional credits. \n",
        "     \n",
        "     The additional credits will have advantages over other students during Star Student selection.\n",
        "       \n",
        "             [ Note: - Deployment Ready Code is defined as, the whole .ipynb notebook should be executable in one go\n",
        "                       without a single error logged. ]\n",
        "\n",
        "3.   Each and every logic should have proper comments.\n",
        "4. You may add as many number of charts you want. Make Sure for each and every chart the following format should be answered.\n",
        "        \n",
        "\n",
        "```\n",
        "# Chart visualization code\n",
        "```\n",
        "            \n",
        "\n",
        "*   Why did you pick the specific chart?\n",
        "*   What is/are the insight(s) found from the chart?\n",
        "* Will the gained insights help creating a positive business impact? \n",
        "Are there any insights that lead to negative growth? Justify with specific reason.\n",
        "\n",
        "5. You have to create at least 20 logical & meaningful charts having important insights.\n",
        "\n",
        "\n",
        "[ Hints : - Do the Vizualization in  a structured way while following \"UBM\" Rule. \n",
        "\n",
        "U - Univariate Analysis,\n",
        "\n",
        "B - Bivariate Analysis (Numerical - Categorical, Numerical - Numerical, Categorical - Categorical)\n",
        "\n",
        "M - Multivariate Analysis\n",
        " ]\n",
        "\n",
        "\n",
        "\n"
      ],
      "metadata": {
        "id": "ZrxVaUj-hHfC"
      }
    },
    {
      "cell_type": "markdown",
      "source": [
        "# ***Let's Begin !***"
      ],
      "metadata": {
        "id": "O_i_v8NEhb9l"
      }
    },
    {
      "cell_type": "markdown",
      "source": [
        "## ***1. Know Your Data***"
      ],
      "metadata": {
        "id": "HhfV-JJviCcP"
      }
    },
    {
      "cell_type": "markdown",
      "source": [
        "### Import Libraries"
      ],
      "metadata": {
        "id": "Y3lxredqlCYt"
      }
    },
    {
      "cell_type": "code",
      "source": [
        "# Import Libraries\n",
        "import pandas as pd\n",
        "import seaborn as sns\n",
        "import numpy as np\n",
        "import matplotlib.pyplot as plt"
      ],
      "metadata": {
        "id": "M8Vqi-pPk-HR"
      },
      "execution_count": null,
      "outputs": []
    },
    {
      "cell_type": "markdown",
      "source": [
        "### Dataset Loading"
      ],
      "metadata": {
        "id": "3RnN4peoiCZX"
      }
    },
    {
      "cell_type": "code",
      "source": [
        "# Load Dataset\n",
        "from google.colab import drive\n",
        "drive.mount('/content/drive')\n",
        "df = pd.read_csv('/content/drive/MyDrive/Hotel Bookings.csv')"
      ],
      "metadata": {
        "id": "4CkvbW_SlZ_R"
      },
      "execution_count": null,
      "outputs": []
    },
    {
      "cell_type": "markdown",
      "source": [
        "### Dataset First View"
      ],
      "metadata": {
        "id": "x71ZqKXriCWQ"
      }
    },
    {
      "cell_type": "code",
      "source": [
        "# Dataset First Look\n",
        "df.head()"
      ],
      "metadata": {
        "id": "LWNFOSvLl09H"
      },
      "execution_count": null,
      "outputs": []
    },
    {
      "cell_type": "markdown",
      "source": [
        "### Dataset Rows & Columns count"
      ],
      "metadata": {
        "id": "7hBIi_osiCS2"
      }
    },
    {
      "cell_type": "code",
      "source": [
        "# Dataset Rows & Columns count\n",
        "number_of_rows = len(df.index)\n",
        "number_of_columns = df.shape[1]\n",
        "print(number_of_columns)\n",
        "print(number_of_rows)\n"
      ],
      "metadata": {
        "id": "Kllu7SJgmLij"
      },
      "execution_count": null,
      "outputs": []
    },
    {
      "cell_type": "markdown",
      "source": [
        "### Dataset Information"
      ],
      "metadata": {
        "id": "JlHwYmJAmNHm"
      }
    },
    {
      "cell_type": "code",
      "source": [
        "# Dataset Info\n",
        "df.info()"
      ],
      "metadata": {
        "id": "e9hRXRi6meOf"
      },
      "execution_count": null,
      "outputs": []
    },
    {
      "cell_type": "markdown",
      "source": [
        "#### Duplicate Values"
      ],
      "metadata": {
        "id": "35m5QtbWiB9F"
      }
    },
    {
      "cell_type": "code",
      "source": [
        "# Dataset Duplicate Value Count\n",
        "df.duplicated().value_counts()"
      ],
      "metadata": {
        "id": "1sLdpKYkmox0"
      },
      "execution_count": null,
      "outputs": []
    },
    {
      "cell_type": "markdown",
      "source": [
        "#### Missing Values/Null Values"
      ],
      "metadata": {
        "id": "PoPl-ycgm1ru"
      }
    },
    {
      "cell_type": "code",
      "source": [
        "# Missing Values/Null Values Count\n",
        "missing_values = df.isna().sum().value_counts()\n",
        "print(missing_values)"
      ],
      "metadata": {
        "id": "GgHWkxvamxVg"
      },
      "execution_count": null,
      "outputs": []
    },
    {
      "cell_type": "code",
      "source": [
        "visual_missing = df.isna().sum().sort_values(ascending=False)\n",
        "visual_missing.index[:4]\n",
        "visual_missing[:4] #columns having missing values\n"
      ],
      "metadata": {
        "id": "eOMWHaE4CEZh"
      },
      "execution_count": null,
      "outputs": []
    },
    {
      "cell_type": "code",
      "source": [
        "# Visualizing the missing values\n",
        "plt.style.use('fivethirtyeight')\n",
        "plt.bar(visual_missing.index[:4],visual_missing[:4], width = 0.5,  color='#444444', label=\"Null values\")\n",
        "plt.legend()\n",
        "plt.yscale(\"log\")\n",
        "axis_font = {'fontname':'Arial', 'size':'14'}\n",
        "plt.xlabel('Columns', **axis_font)\n",
        "plt.ylabel('Number of Null Values', **axis_font)\n",
        "plt.title('Null values count in each Column', **axis_font)"
      ],
      "metadata": {
        "id": "3q5wnI3om9sJ"
      },
      "execution_count": null,
      "outputs": []
    },
    {
      "cell_type": "markdown",
      "source": [
        "### What did you know about your dataset?"
      ],
      "metadata": {
        "id": "H0kj-8xxnORC"
      }
    },
    {
      "cell_type": "markdown",
      "source": [
        "This dataset basically relates the diffirent possible variables relevant to Hotel Bookings, my insights to this data set are - \n",
        "1. It contains 119390 Rows and 32 Columns, the datatype distribution in the columns are-\n",
        "   * Number of columns containing **float64** = 4 \n",
        "   * Number of columns containing **int64** = 16\n",
        "   * Number of columns containing **object** = 32\n",
        "\n",
        "2. Dataset contains 31994 duplicate values.\n",
        "3. The columns containing Null values are -\n",
        "   *   company - 112593\n",
        "   *   agent - 16340\n",
        "   *   country - 488\n",
        "   *   children - 4\n",
        "4.There is a max lead time of 737 days!\n",
        "\n",
        "5. Someone stayed 19 weekend nights.\n",
        "\n",
        "6. 55 adults in a single room. 10 children. 10 babies.\n",
        "\n",
        "7. $5,400 for an average daily rate.\n",
        "\n",
        "8. 8 Parking spots.\n",
        "\n",
        "9. 391 days in waiting list.\n",
        "\n",
        "10. 21 booking changes\n",
        "\n",
        "  \n",
        "  \n",
        "  \n",
        "\n",
        "\n",
        "\n",
        "\n",
        "\n",
        "\n",
        "\n",
        "\n"
      ],
      "metadata": {
        "id": "gfoNAAC-nUe_"
      }
    },
    {
      "cell_type": "markdown",
      "source": [
        "## ***2. Understanding Your Variables***"
      ],
      "metadata": {
        "id": "nA9Y7ga8ng1Z"
      }
    },
    {
      "cell_type": "code",
      "source": [
        "# Dataset Columns\n",
        "df.columns"
      ],
      "metadata": {
        "id": "j7xfkqrt5Ag5"
      },
      "execution_count": null,
      "outputs": []
    },
    {
      "cell_type": "code",
      "source": [
        "# Dataset Describe\n",
        "df.describe()"
      ],
      "metadata": {
        "id": "DnOaZdaE5Q5t"
      },
      "execution_count": null,
      "outputs": []
    },
    {
      "cell_type": "markdown",
      "source": [
        "### Variables Description "
      ],
      "metadata": {
        "id": "PBTbrJXOngz2"
      }
    },
    {
      "cell_type": "markdown",
      "source": [
        "\n",
        "- Hotel:Hotel (H1 = Resort Hotel or H2 = City Hotel)\n",
        "\n",
        "- is_canceled:Value indicating if the booking was canceled (1) or not (0)\n",
        "\n",
        "- lead_time:Number of days that elapsed between the entering date of the booking into the PMS and the arrival date\n",
        "\n",
        "- arrival_date_year:Year of arrival date\n",
        "\n",
        "- arrival_date_month:Month of arrival date\n",
        "\n",
        "- arrival_date_week_number:Week number of year for arrival date\n",
        "\n",
        "- arrival_date_day_of_month:Day of arrival date\n",
        "\n",
        "- stays_in_weekend_nights:Number of weekend nights (Saturday or Sunday) the guest stayed or booked to stay at the hotel\n",
        "\n",
        "- stays_in_week_nights:Number of week nights (Monday to Friday) the guest stayed or booked to stay at the hotel\n",
        "\n",
        "- adults:Number of adults\n",
        "\n",
        "- children:Number of children\n",
        "\n",
        "- babies:Number of babies\n",
        "\n",
        "- meal:BB – Bed & BreakfastHB – only two meals including breakfast meal* FB – breakfast, lunch, and dinner text\n",
        "\n",
        "- country:Country from they belong\n",
        "\n",
        "- market_segment:TA: Travel agentsTO: Tour operators\n",
        "\n",
        "- is_repeated_guest:is guest repeated\n",
        "\n",
        "- previous_cancellations:Have they canceled previous bookings\n",
        "\n",
        "- previous_bookings_not_canceled:\n",
        "\n",
        "- reserved_room_type:Type of room they reserved\n",
        "\n",
        "- assigned_room_type:Type of room they assigned\n",
        "\n",
        "- booking_changes:booking changed or not\n",
        "\n",
        "- deposit_type:deposit type they preferred\n",
        "\n",
        "- agent:was ther any agent between for hottel recomndation\n",
        "\n",
        "- company:\n",
        "\n",
        "- days_in_waiting_list:\n",
        "\n",
        "- customer_type:\n",
        "\n",
        "- adr:Average daily rate\n",
        "\n",
        "- required_car_parking_spaces:Spaces required for car parking\n",
        "\n",
        "- total_of_special_requests:total number of special requests\n",
        "\n",
        "- reservation_status:Status of reservation is it canceled,waiting,confirmed\n",
        "\n",
        "- reservation_status_date:date of reservation\n",
        "\n",
        "\n"
      ],
      "metadata": {
        "id": "aJV4KIxSnxay"
      }
    },
    {
      "cell_type": "markdown",
      "source": [
        "### Check Unique Values for each variable."
      ],
      "metadata": {
        "id": "u3PMJOP6ngxN"
      }
    },
    {
      "cell_type": "code",
      "source": [
        "unique_values = df.apply(lambda x : x.unique())"
      ],
      "metadata": {
        "id": "zms12Yq5n-jE"
      },
      "execution_count": null,
      "outputs": []
    },
    {
      "cell_type": "markdown",
      "source": [
        "## 3. ***Data Wrangling***"
      ],
      "metadata": {
        "id": "dauF4eBmngu3"
      }
    },
    {
      "cell_type": "markdown",
      "source": [
        "# Data Wrangling Code"
      ],
      "metadata": {
        "id": "bKJF3rekwFvQ"
      }
    },
    {
      "cell_type": "markdown",
      "source": [
        "\n",
        "\n",
        "### 1. Find missing values and replace them"
      ],
      "metadata": {
        "id": "PDcdeiDjd-6T"
      }
    },
    {
      "cell_type": "code",
      "source": [
        "#slicing missing value and filling it\n",
        "df[visual_missing.index[:4]] = df[visual_missing.index[:4]].fillna(0) \n",
        "\n",
        "#checking for null values\n",
        "df.isnull().sum().sort_values(ascending = False)"
      ],
      "metadata": {
        "id": "wk-9a2fpoLcV"
      },
      "execution_count": null,
      "outputs": []
    },
    {
      "cell_type": "markdown",
      "source": [
        "### 2. Drop Rows where there is no adult, baby and child"
      ],
      "metadata": {
        "id": "AkQckNIUl3oN"
      }
    },
    {
      "cell_type": "code",
      "source": [
        "#drop the rows in which sum of babies, children, adults is 0.\n",
        "df = df.drop(df[df['babies']+df['adults']+df['children']==0].index)"
      ],
      "metadata": {
        "id": "HzskaMpxelUh"
      },
      "execution_count": null,
      "outputs": []
    },
    {
      "cell_type": "markdown",
      "source": [
        "### 3. Convert datatype of these columns from float to integer"
      ],
      "metadata": {
        "id": "dX1niFsomVHg"
      }
    },
    {
      "cell_type": "code",
      "source": [
        "#converting all values of each column having float to integer\n",
        "for i in list(df.columns):\n",
        "  if df[i].dtypes == 'float64':\n",
        "    df[i] = df[i].apply(int)\n",
        "#checking for conversion is done\n",
        "df.dtypes"
      ],
      "metadata": {
        "id": "6wg4Rf85md6j"
      },
      "execution_count": null,
      "outputs": []
    },
    {
      "cell_type": "markdown",
      "source": [
        "### 4. For the missing values in the country column, replace it with mode (value that appears most often)"
      ],
      "metadata": {
        "id": "KWiQZQONp0qy"
      }
    },
    {
      "cell_type": "code",
      "source": [
        "#filling missing values with mode\n",
        "df.fillna(df['country'].mode()[0],inplace = True)"
      ],
      "metadata": {
        "id": "0vHqzdu8oPGw"
      },
      "execution_count": null,
      "outputs": []
    },
    {
      "cell_type": "markdown",
      "source": [
        "### 5. Drop Duplicates from each columns."
      ],
      "metadata": {
        "id": "ZBu-H-JlEv_L"
      }
    },
    {
      "cell_type": "code",
      "source": [
        "#dropping duplicates\n",
        "df.drop_duplicates(keep = False,inplace = True)"
      ],
      "metadata": {
        "id": "ZZMaHGzXE2_a"
      },
      "execution_count": null,
      "outputs": []
    },
    {
      "cell_type": "markdown",
      "source": [
        "### What all manipulations have you done and insights you found?"
      ],
      "metadata": {
        "id": "MSa1f5Uengrz"
      }
    },
    {
      "cell_type": "markdown",
      "source": [
        "**1. Find missing values and replacing them.**\n",
        "- As we can see below the column and the corresponding value\n",
        " -  company     112593\n",
        " -  agent        16340\n",
        " -  country        488\n",
        " -  children         4\n",
        "- I filled the missing value with 0.\n",
        "\n",
        "**2. Drop Rows where there is no adult, baby and child**\n",
        "- If none of the people booked room in the hotel then there no point of the data pertaining to them.\n",
        "\n",
        "**3. Convert datatype of these columns from float to integer**\n",
        "- While analysing the data, it is easy to evaluate the integer values. \n",
        "- Also the visualisation takes only integer values.\n",
        "\n",
        "**4. For the missing values in the country column, replace it with mode (value that appears most often)**\n",
        "- If there are certain missing values in the dataset then it is more likely that those missing values would be the most repeating value (mode).\n",
        "\n",
        "**5. Drop Duplicates from each columns.**\n",
        "- Is is not possible to haive the exact dataset repeating values when the datetime values are present."
      ],
      "metadata": {
        "id": "LbyXE7I1olp8"
      }
    },
    {
      "cell_type": "markdown",
      "source": [
        "## ***4. Data Vizualization, Storytelling & Experimenting with charts : Understand the relationships between variables***"
      ],
      "metadata": {
        "id": "GF8Ens_Soomf"
      }
    },
    {
      "cell_type": "markdown",
      "source": [
        "#### Chart - 1"
      ],
      "metadata": {
        "id": "0wOQAZs5pc--"
      }
    },
    {
      "cell_type": "markdown",
      "source": [
        "### 1. Which type of hotel have the maximum bookings?"
      ],
      "metadata": {
        "id": "YVwtTIajIHYN"
      }
    },
    {
      "cell_type": "code",
      "source": [
        "# Chart - 1 visualization code\n",
        "hotel_bookings = df['hotel'].value_counts()\n",
        "print(hotel_bookings)"
      ],
      "metadata": {
        "id": "7v_ESjsspbW7"
      },
      "execution_count": null,
      "outputs": []
    },
    {
      "cell_type": "code",
      "source": [
        "df_not_canceled = df[df['is_canceled']==0]  #hotel bookings which are not cancelled\n",
        "final_booked = df_not_canceled['hotel'] #hotels booked without canceled i.e hotels which are actually booked\n",
        "t_bookings = final_booked.value_counts() #total bookings in resort and city hotels\n",
        "r_bookings = t_bookings[0] #total bookings in resort\n",
        "c_bookings = t_bookings[1] #total bookings in city"
      ],
      "metadata": {
        "id": "nDU6nevpI4LT"
      },
      "execution_count": null,
      "outputs": []
    },
    {
      "cell_type": "code",
      "source": [
        "plt.style.use('fivethirtyeight')\n",
        "plt.bar(t_bookings.index[0],t_bookings[0],color=['blue'])\n",
        "plt.bar(t_bookings.index[1],t_bookings[1],color=['red'])\n",
        "plt.legend([\"City bookings\", \"Resort bookings\"])\n",
        "axis_font = {'fontname':'Arial', 'size':'14'}\n",
        "plt.xlabel('Hotels', **axis_font)\n",
        "plt.ylabel('Number of Bookings', **axis_font)\n",
        "plt.title('Total Bookings', **axis_font)"
      ],
      "metadata": {
        "id": "kOqPHc1zPbfU"
      },
      "execution_count": null,
      "outputs": []
    },
    {
      "cell_type": "markdown",
      "source": [
        "##### 1. Why did you pick the specific chart?"
      ],
      "metadata": {
        "id": "K5QZ13OEpz2H"
      }
    },
    {
      "cell_type": "markdown",
      "source": [
        "A bar chart is a chart that presents categorical data, and here i want to show the data pertaining to categories of hotels."
      ],
      "metadata": {
        "id": "XESiWehPqBRc"
      }
    },
    {
      "cell_type": "markdown",
      "source": [
        "##### 2. What is/are the insight(s) found from the chart?\n",
        "\n"
      ],
      "metadata": {
        "id": "lQ7QKXXCp7Bj"
      }
    },
    {
      "cell_type": "markdown",
      "source": [
        "The total bookings without cancellation in the city hotel is more than the resort hotel.\n",
        "\n",
        "More than 60% of the population booked the City hotel\n",
        "\n"
      ],
      "metadata": {
        "id": "C_j1G7yiqdRP"
      }
    },
    {
      "cell_type": "markdown",
      "source": [
        "##### 3. Will the gained insights help creating a positive business impact? \n",
        "Are there any insights that lead to negative growth? Justify with specific reason."
      ],
      "metadata": {
        "id": "448CDAPjqfQr"
      }
    },
    {
      "cell_type": "markdown",
      "source": [
        "Yes.\n",
        "As it is just a insight of hotel bookings and we only compared the bookings in diffirent hotel. so, there is no negative  insights that lead to negative growth."
      ],
      "metadata": {
        "id": "3cspy4FjqxJW"
      }
    },
    {
      "cell_type": "markdown",
      "source": [
        "#### Chart - 2"
      ],
      "metadata": {
        "id": "KSlN3yHqYklG"
      }
    },
    {
      "cell_type": "markdown",
      "source": [
        "### 2. Percentage of bookings for each year?\n"
      ],
      "metadata": {
        "id": "p_yn0Ir3qJcc"
      }
    },
    {
      "cell_type": "code",
      "source": [
        "# Chart - 2 visualization code\n",
        "percent_b_per_y = ((df['arrival_date_year'].value_counts())/len(df['arrival_date_year'])*100) #percentage of bookings per year\n",
        "print(percent_b_per_y.sort_index())"
      ],
      "metadata": {
        "id": "R4YgtaqtYklH"
      },
      "execution_count": null,
      "outputs": []
    },
    {
      "cell_type": "code",
      "source": [
        "plt.style.use('fivethirtyeight')\n",
        "\n",
        "percent_b_per_y.plot(kind='pie',  autopct='%1.0f%%')"
      ],
      "metadata": {
        "id": "Ij1OyXlnv_sS"
      },
      "execution_count": null,
      "outputs": []
    },
    {
      "cell_type": "markdown",
      "source": [
        "##### 1. Why did you pick the specific chart?"
      ],
      "metadata": {
        "id": "t6dVpIINYklI"
      }
    },
    {
      "cell_type": "markdown",
      "source": [
        "A pie chart (or a circle chart) is a circular statistical graphic, which is divided into slices to illustrate numerical proportion. And here we are showing the percentage proportion of each year."
      ],
      "metadata": {
        "id": "5aaW0BYyYklI"
      }
    },
    {
      "cell_type": "markdown",
      "source": [
        "##### 2. What is/are the insight(s) found from the chart?"
      ],
      "metadata": {
        "id": "ijmpgYnKYklI"
      }
    },
    {
      "cell_type": "markdown",
      "source": [
        "More than double bookings were made in 2016, compared to the previous year. But the bookings decreased by almost 12% the following year."
      ],
      "metadata": {
        "id": "PSx9atu2YklI"
      }
    },
    {
      "cell_type": "markdown",
      "source": [
        "##### 3. Will the gained insights help creating a positive business impact? \n",
        "Are there any insights that lead to negative growth? Justify with specific reason."
      ],
      "metadata": {
        "id": "-JiQyfWJYklI"
      }
    },
    {
      "cell_type": "markdown",
      "source": [
        "Yes.\n",
        "Yes, as the bookings were increased from the year 2015 to 2016, then there is rapid fall from 2016 to 2017."
      ],
      "metadata": {
        "id": "BcBbebzrYklV"
      }
    },
    {
      "cell_type": "markdown",
      "source": [
        "#### Chart - 3"
      ],
      "metadata": {
        "id": "EM7whBJCYoAo"
      }
    },
    {
      "cell_type": "markdown",
      "source": [
        "### 3.Top 10 countries having maximum bookings?"
      ],
      "metadata": {
        "id": "ii2UgWWpCd16"
      }
    },
    {
      "cell_type": "code",
      "source": [
        "# Chart - 3 visualization code\n",
        "df_not_canceled.loc[:,'is_canceled'] = df_not_canceled.loc[:,'is_canceled'].astype(int) #converting float values to int\n",
        "df_country = df_not_canceled['country'].value_counts().sort_values(ascending=False) #count booking from each countries\n",
        "df_country"
      ],
      "metadata": {
        "id": "t6GMdE67YoAp"
      },
      "execution_count": null,
      "outputs": []
    },
    {
      "cell_type": "code",
      "source": [
        "plt.style.use('fivethirtyeight')\n",
        "plt.bar(df_country.index[:10],df_country[:10],color=['black', 'red', 'green', 'blue', 'cyan'])\n",
        "axis_font = {'fontname':'Arial', 'size':'14'}\n",
        "plt.xlabel('Countries', **axis_font)\n",
        "plt.ylabel('Number of Bookings', **axis_font)\n",
        "plt.title('Top 10 countries', **axis_font)"
      ],
      "metadata": {
        "id": "CiFKwy3rr4pN"
      },
      "execution_count": null,
      "outputs": []
    },
    {
      "cell_type": "markdown",
      "source": [
        "##### 1. Why did you pick the specific chart?"
      ],
      "metadata": {
        "id": "fge-S5ZAYoAp"
      }
    },
    {
      "cell_type": "markdown",
      "source": [
        "We have to find top countries so they are all diffirent categories that is why we used the bar graph."
      ],
      "metadata": {
        "id": "5dBItgRVYoAp"
      }
    },
    {
      "cell_type": "markdown",
      "source": [
        "##### 2. What is/are the insight(s) found from the chart?"
      ],
      "metadata": {
        "id": "85gYPyotYoAp"
      }
    },
    {
      "cell_type": "markdown",
      "source": [
        "The 'PRT' country have the maximum bookings amoung all the bookings. It has more than double of the following countries."
      ],
      "metadata": {
        "id": "4jstXR6OYoAp"
      }
    },
    {
      "cell_type": "markdown",
      "source": [
        "##### 3. Will the gained insights help creating a positive business impact? \n",
        "Are there any insights that lead to negative growth? Justify with specific reason."
      ],
      "metadata": {
        "id": "RoGjAbkUYoAp"
      }
    },
    {
      "cell_type": "markdown",
      "source": [
        "Yes.\n",
        "No, there is no negative insight because it is just the data of country bookings."
      ],
      "metadata": {
        "id": "zfJ8IqMcYoAp"
      }
    },
    {
      "cell_type": "markdown",
      "source": [
        "#### Chart - 4"
      ],
      "metadata": {
        "id": "4Of9eVA-YrdM"
      }
    },
    {
      "cell_type": "markdown",
      "source": [
        "### 4. Which was the most type booking?"
      ],
      "metadata": {
        "id": "P3I2vo1RZQRb"
      }
    },
    {
      "cell_type": "markdown",
      "source": [],
      "metadata": {
        "id": "IflkO1cRUWc1"
      }
    },
    {
      "cell_type": "code",
      "source": [
        "# Chart - 4 visualization code\n",
        "#getting dataframe after applying conditions for single, couple and family.\n",
        "single   = df_not_canceled[(df_not_canceled.adults==1) & (df_not_canceled.children==0) & (df_not_canceled.babies==0)]\n",
        "couple   = df_not_canceled[(df_not_canceled.adults==2) & (df_not_canceled.children==0) & (df_not_canceled.babies==0)]\n",
        "family   = df_not_canceled[df_not_canceled.adults + df_not_canceled.children + df_not_canceled.babies > 2]\n",
        "names = ['Single', 'Couple', 'Family']\n",
        "count = [single.shape[0],couple.shape[0], family.shape[0]]\n",
        "count_percent = [x/df_not_canceled.shape[0]*100 for x in count] #calculating percentage of bookings\n",
        "count_percent"
      ],
      "metadata": {
        "id": "irlUoxc8YrdO"
      },
      "execution_count": null,
      "outputs": []
    },
    {
      "cell_type": "code",
      "source": [
        "plt.style.use('fivethirtyeight')\n",
        "plt.bar(names,count_percent,color=['green', 'red', 'orange'])\n",
        "axis_font = {'fontname':'Arial', 'size':'14'}\n",
        "plt.xlabel('Type of booking', **axis_font)\n",
        "plt.ylabel('Booking (%)', **axis_font)\n",
        "plt.title('Booking Type', **axis_font)"
      ],
      "metadata": {
        "id": "ZhMTodn9fTEE"
      },
      "execution_count": null,
      "outputs": []
    },
    {
      "cell_type": "markdown",
      "source": [
        "##### 1. Why did you pick the specific chart?"
      ],
      "metadata": {
        "id": "iky9q4vBYrdO"
      }
    },
    {
      "cell_type": "markdown",
      "source": [
        "Here we are showing bookings type so they are all diffirent categories that is why we used the bar graph."
      ],
      "metadata": {
        "id": "aJRCwT6DYrdO"
      }
    },
    {
      "cell_type": "markdown",
      "source": [
        "##### 2. What is/are the insight(s) found from the chart?"
      ],
      "metadata": {
        "id": "F6T5p64dYrdO"
      }
    },
    {
      "cell_type": "markdown",
      "source": [
        "The couple have the most bookings among the categories(single,couple,family)."
      ],
      "metadata": {
        "id": "Xx8WAJvtYrdO"
      }
    },
    {
      "cell_type": "markdown",
      "source": [
        "##### 3. Will the gained insights help creating a positive business impact? \n",
        "Are there any insights that lead to negative growth? Justify with specific reason."
      ],
      "metadata": {
        "id": "y-Ehk30pYrdP"
      }
    },
    {
      "cell_type": "markdown",
      "source": [
        "Yes.\n",
        "Yes, the couple are booking the most but the family is not booking the hotels, so might be the hotel is not able to fulfill the requirements of family."
      ],
      "metadata": {
        "id": "jLNxxz7MYrdP"
      }
    },
    {
      "cell_type": "markdown",
      "source": [
        "#### Chart - 5"
      ],
      "metadata": {
        "id": "bamQiAODYuh1"
      }
    },
    {
      "cell_type": "markdown",
      "source": [
        "### 5. which month have the maximum mean bookings over the years?\n"
      ],
      "metadata": {
        "id": "87nAu3ibf1zq"
      }
    },
    {
      "cell_type": "code",
      "source": [
        "# Chart - 5 visualization code\n",
        "new_order = ['January', 'February', 'March', 'April', 'May', 'June', 'July', 'August', 'September',\n",
        "             'October', 'November', 'December']\n",
        "\n",
        "unique_years = df_not_canceled['arrival_date_year'].value_counts().sort_index()\n",
        "\n",
        "\n",
        "sorted_months = df_not_canceled.loc[df_not_canceled['arrival_date_year']==unique_years.index[0],'arrival_date_month'].value_counts().reindex(new_order)\n",
        "\n",
        "\n",
        "x1 = sorted_months.index\n",
        "y1 = sorted_months/sorted_months.sum()*100 # %Bookings\n",
        "\n",
        "sorted_months = df_not_canceled.loc[df_not_canceled['arrival_date_year']==unique_years.index[1],'arrival_date_month'].value_counts().reindex(new_order)\n",
        "\n",
        "\n",
        "x1 = sorted_months.index\n",
        "y2 = sorted_months/sorted_months.sum()*100 # %Bookings\n",
        "\n",
        "sorted_months = df_not_canceled.loc[df_not_canceled['arrival_date_year']==unique_years.index[2],'arrival_date_month'].value_counts().reindex(new_order)\n",
        "\n",
        "\n",
        "x1 = sorted_months.index\n",
        "y3 = sorted_months/sorted_months.sum()*100 # %Bookings\n",
        "\n",
        "\n",
        "fig, ax = plt.subplots(figsize=(15,6))\n",
        "\n",
        "ax.set_xlabel('Months')\n",
        "ax.set_ylabel('Booking (%)')\n",
        "ax.set_title('Booking Trend (Monthly) Yearwise')\n",
        "\n",
        "\n",
        "sns.lineplot(x1, y1.values, label='2015', sort=False)\n",
        "sns.lineplot(x1, y2.values, label='2016', sort=False)\n",
        "sns.lineplot(x1, y3.values, label='2017', sort=False)"
      ],
      "metadata": {
        "id": "TIJwrbroYuh3"
      },
      "execution_count": null,
      "outputs": []
    },
    {
      "cell_type": "markdown",
      "source": [
        "##### 1. Why did you pick the specific chart?"
      ],
      "metadata": {
        "id": "QHF8YVU7Yuh3"
      }
    },
    {
      "cell_type": "markdown",
      "source": [
        "A line chart with multiple groups allows to show the evolution of several items on the same figure."
      ],
      "metadata": {
        "id": "dcxuIMRPYuh3"
      }
    },
    {
      "cell_type": "markdown",
      "source": [
        "##### 2. What is/are the insight(s) found from the chart?"
      ],
      "metadata": {
        "id": "GwzvFGzlYuh3"
      }
    },
    {
      "cell_type": "markdown",
      "source": [
        "Average bookings in september is maximum and in january is minimum."
      ],
      "metadata": {
        "id": "uyqkiB8YYuh3"
      }
    },
    {
      "cell_type": "markdown",
      "source": [
        "##### 3. Will the gained insights help creating a positive business impact? \n",
        "Are there any insights that lead to negative growth? Justify with specific reason."
      ],
      "metadata": {
        "id": "qYpmQ266Yuh3"
      }
    },
    {
      "cell_type": "markdown",
      "source": [
        "Yes.\n",
        "Yes, as we can see the bookings from year 2016 to 2017 kept on decreasing."
      ],
      "metadata": {
        "id": "_WtzZ_hCYuh4"
      }
    },
    {
      "cell_type": "markdown",
      "source": [
        "#### Chart - 6"
      ],
      "metadata": {
        "id": "OH-pJp9IphqM"
      }
    },
    {
      "cell_type": "markdown",
      "source": [
        "### 6. Type of room booked by repeated guests?             "
      ],
      "metadata": {
        "id": "WWfvz9NNRz7u"
      }
    },
    {
      "cell_type": "code",
      "source": [
        "repeated_guest = df_not_canceled[df_not_canceled['is_repeated_guest']==1]\n",
        "repeated_guest.reset_index(level=0, inplace=True)\n",
        "repeated_guest.rename(columns={'index': 'no_of_repeated_guests'}, inplace=True)\n",
        "repeated_guest.loc[:,['no_of_repeated_guests','reserved_room_type']].sort_values('no_of_repeated_guests',ascending=False)\n"
      ],
      "metadata": {
        "id": "hlNNxRQISo0y"
      },
      "execution_count": null,
      "outputs": []
    },
    {
      "cell_type": "code",
      "source": [
        "# Chart - 6 visualization code\n",
        "sns.set_style(\"whitegrid\")\n",
        "sns.boxplot(x = 'reserved_room_type', y = 'no_of_repeated_guests', data = repeated_guest)"
      ],
      "metadata": {
        "id": "kuRf4wtuphqN"
      },
      "execution_count": null,
      "outputs": []
    },
    {
      "cell_type": "markdown",
      "source": [
        "##### 1. Why did you pick the specific chart?"
      ],
      "metadata": {
        "id": "bbFf2-_FphqN"
      }
    },
    {
      "cell_type": "markdown",
      "source": [
        "A boxplot summarizes the distribution of a numeric variable for one or several groups. It allows to quickly get the median, quartiles and outliers."
      ],
      "metadata": {
        "id": "loh7H2nzphqN"
      }
    },
    {
      "cell_type": "markdown",
      "source": [
        "##### 2. What is/are the insight(s) found from the chart?"
      ],
      "metadata": {
        "id": "_ouA3fa0phqN"
      }
    },
    {
      "cell_type": "markdown",
      "source": [
        "The room G have maximum number ofrepeated guests i.e 119070\tand room E have the least i.e 13937."
      ],
      "metadata": {
        "id": "VECbqPI7phqN"
      }
    },
    {
      "cell_type": "markdown",
      "source": [
        "##### 3. Will the gained insights help creating a positive business impact? \n",
        "Are there any insights that lead to negative growth? Justify with specific reason."
      ],
      "metadata": {
        "id": "Seke61FWphqN"
      }
    },
    {
      "cell_type": "markdown",
      "source": [
        "Yes, the room which is used most of times will require more attention as compared to other.\n",
        "Yes, if we are giving equal amount of attention to all the rooms then it would be waste in the rooms which are not used more often."
      ],
      "metadata": {
        "id": "DW4_bGpfphqN"
      }
    },
    {
      "cell_type": "markdown",
      "source": [
        "#### Chart - 7"
      ],
      "metadata": {
        "id": "PIIx-8_IphqN"
      }
    },
    {
      "cell_type": "markdown",
      "source": [
        "### 7. Which type of meal is preffered by top most visited countries?"
      ],
      "metadata": {
        "id": "LNx7dPm-hut6"
      }
    },
    {
      "cell_type": "code",
      "source": [
        "# Chart - 7 visualization code\n",
        "country_meal = df_not_canceled.loc[:,['country','meal']].value_counts().sort_values(ascending=False)\n",
        "country_meal = pd.DataFrame(country_meal[:20])\n",
        "country_meal.reset_index(level=0, inplace=True)\n",
        "country_meal.reset_index(level=0, inplace=True)\n",
        "country_meal.columns = ['meal','country','values']"
      ],
      "metadata": {
        "id": "lqAIGUfyphqO"
      },
      "execution_count": null,
      "outputs": []
    },
    {
      "cell_type": "code",
      "source": [
        "sns.set(rc = {'figure.figsize':(8,5)})\n",
        "sns.scatterplot(data=country_meal, x=\"country\", y=\"values\", hue=\"meal\",style = \"meal\",s=80)\n"
      ],
      "metadata": {
        "id": "_F-EgjuNIxF2"
      },
      "execution_count": null,
      "outputs": []
    },
    {
      "cell_type": "markdown",
      "source": [
        "##### 1. Why did you pick the specific chart?"
      ],
      "metadata": {
        "id": "t27r6nlMphqO"
      }
    },
    {
      "cell_type": "markdown",
      "source": [
        "A scatter plot is a type of plot or mathematical diagram using Cartesian coordinates to display values of variables for a set of data. "
      ],
      "metadata": {
        "id": "iv6ro40sphqO"
      }
    },
    {
      "cell_type": "markdown",
      "source": [
        "##### 2. What is/are the insight(s) found from the chart?"
      ],
      "metadata": {
        "id": "r2jJGEOYphqO"
      }
    },
    {
      "cell_type": "markdown",
      "source": [
        "From the above chart we know the type of meal mostly ordered by the top booking countries and we can conclude by looking at it that most countries want the BB type meal and the least ordered meal is SC type."
      ],
      "metadata": {
        "id": "Po6ZPi4hphqO"
      }
    },
    {
      "cell_type": "markdown",
      "source": [
        "##### 3. Will the gained insights help creating a positive business impact? \n",
        "Are there any insights that lead to negative growth? Justify with specific reason."
      ],
      "metadata": {
        "id": "b0JNsNcRphqO"
      }
    },
    {
      "cell_type": "markdown",
      "source": [
        "Yes, as the ordered meal is BB for most of the countries, the hotels would be more focusing on that meal.\n",
        "\n",
        "No, there are not any insights that lead to negative growth."
      ],
      "metadata": {
        "id": "xvSq8iUTphqO"
      }
    },
    {
      "cell_type": "markdown",
      "source": [
        "#### Chart - 8"
      ],
      "metadata": {
        "id": "BZR9WyysphqO"
      }
    },
    {
      "cell_type": "markdown",
      "source": [
        "### 8. Hotelwise Stays in Night."
      ],
      "metadata": {
        "id": "qhuG4vITjpaR"
      }
    },
    {
      "cell_type": "code",
      "source": [
        "# Chart - 8 visualization code\n",
        "# stays_in_week_nights\n",
        "# stays_in_weekend_nights\n",
        "barWidth = 0.3\n",
        "df_not_canceled['total_nights'] = df_not_canceled['stays_in_week_nights']+df_not_canceled['stays_in_weekend_nights']\n",
        "\n",
        "fig, ax = plt.subplots(figsize=(12,6))\n",
        "ax.set_xlabel('No of Nights')\n",
        "ax.set_ylabel('No of Nights')\n",
        "ax.set_title('Hotel wise night stay duration (Top 10)')\n",
        "sns.countplot(x='total_nights', hue='hotel', data=df_not_canceled,order = df_not_canceled['total_nights'].value_counts().loc[:10].index, ax=ax);"
      ],
      "metadata": {
        "id": "TdPTWpAVphqO"
      },
      "execution_count": null,
      "outputs": []
    },
    {
      "cell_type": "markdown",
      "source": [
        "##### 1. Why did you pick the specific chart?"
      ],
      "metadata": {
        "id": "jj7wYXLtphqO"
      }
    },
    {
      "cell_type": "markdown",
      "source": [
        "A subplot is a secondary strand of the plot that is a supporting side story for any story or for the main plot. Subplots may connect to main plots, in either time and place or thematic significance."
      ],
      "metadata": {
        "id": "Ob8u6rCTphqO"
      }
    },
    {
      "cell_type": "markdown",
      "source": [
        "##### 2. What is/are the insight(s) found from the chart?"
      ],
      "metadata": {
        "id": "eZrbJ2SmphqO"
      }
    },
    {
      "cell_type": "markdown",
      "source": [
        "For Resort hotel, the most popular stay duration is three, two, one, and four days respectively. For City hotel, most popular stay duration is one, two, seven(week), and three respectively."
      ],
      "metadata": {
        "id": "mZtgC_hjphqO"
      }
    },
    {
      "cell_type": "markdown",
      "source": [
        "##### 3. Will the gained insights help creating a positive business impact? \n",
        "Are there any insights that lead to negative growth? Justify with specific reason."
      ],
      "metadata": {
        "id": "rFu4xreNphqO"
      }
    },
    {
      "cell_type": "markdown",
      "source": [
        "Answer Here"
      ],
      "metadata": {
        "id": "ey_0qi68phqO"
      }
    },
    {
      "cell_type": "markdown",
      "source": [
        "#### Chart - 9"
      ],
      "metadata": {
        "id": "YJ55k-q6phqO"
      }
    },
    {
      "cell_type": "markdown",
      "source": [
        "### 9. Previous cancellations"
      ],
      "metadata": {
        "id": "p6u3E0sXLrtD"
      }
    },
    {
      "cell_type": "code",
      "source": [
        "print(df_not_canceled.loc[:,['previous_cancellations','hotel']].value_counts('hotel'))\n",
        "df_is_canceled = df[df['is_canceled'] ==1]\n",
        "print(df_is_canceled.loc[:,['previous_cancellations','hotel']].value_counts('hotel'))\n"
      ],
      "metadata": {
        "id": "vRKzKxcsvHsz"
      },
      "execution_count": null,
      "outputs": []
    },
    {
      "cell_type": "code",
      "source": [
        "# Chart - 9 visualization code\n",
        "sns.catplot(x = \"is_canceled\", y = \"previous_cancellations\", data = df, kind = \"box\", col = \"hotel\")\n"
      ],
      "metadata": {
        "id": "B2aS4O1ophqO"
      },
      "execution_count": null,
      "outputs": []
    },
    {
      "cell_type": "markdown",
      "source": [
        "##### 1. Why did you pick the specific chart?"
      ],
      "metadata": {
        "id": "gCFgpxoyphqP"
      }
    },
    {
      "cell_type": "markdown",
      "source": [
        "I am using catplot to show two categories side by side, using the same time scale,plotting sales from two different products. The goal is to show the two trends side by side."
      ],
      "metadata": {
        "id": "TVxDimi2phqP"
      }
    },
    {
      "cell_type": "markdown",
      "source": [
        "##### 2. What is/are the insight(s) found from the chart?"
      ],
      "metadata": {
        "id": "OVtJsKN_phqQ"
      }
    },
    {
      "cell_type": "markdown",
      "source": [
        "The percentage of cancelation in city hotel is more than 28% and in resort hotel is 22%."
      ],
      "metadata": {
        "id": "ngGi97qjphqQ"
      }
    },
    {
      "cell_type": "markdown",
      "source": [
        "##### 3. Will the gained insights help creating a positive business impact? \n",
        "Are there any insights that lead to negative growth? Justify with specific reason."
      ],
      "metadata": {
        "id": "lssrdh5qphqQ"
      }
    },
    {
      "cell_type": "markdown",
      "source": [
        "In city hotel the cancelation rate is more as compared to resort hotel but the bookings are more in city hotel."
      ],
      "metadata": {
        "id": "tBpY5ekJphqQ"
      }
    },
    {
      "cell_type": "markdown",
      "source": [
        "#### Chart - 10"
      ],
      "metadata": {
        "id": "U2RJ9gkRphqQ"
      }
    },
    {
      "cell_type": "markdown",
      "source": [
        "### 10. At lead time the cancellation rate vs not cancelled."
      ],
      "metadata": {
        "id": "GxQxxcUDN456"
      }
    },
    {
      "cell_type": "code",
      "source": [
        "# Chart - 10 visualization code\n",
        "df_canceled = df[df['is_canceled']!=0]\n",
        "fig, plot = plt.subplots(figsize=(16,8))\n",
        "plt.title(\"Lead Time Stats\")\n",
        "plt.hist([df_not_canceled.lead_time, df_canceled.lead_time], color = [\"orange\",\"skyblue\"], bins= np.arange(0, 600,100));\n",
        "plt.legend([\"Confirmed bookings\", \"Canceled booking\"]);\n",
        "plt.xlabel('Lead Time')\n",
        "plt.ylabel('Bookings')"
      ],
      "metadata": {
        "id": "GM7a4YP4phqQ"
      },
      "execution_count": null,
      "outputs": []
    },
    {
      "cell_type": "markdown",
      "source": [
        "##### 1. Why did you pick the specific chart?"
      ],
      "metadata": {
        "id": "1M8mcRywphqQ"
      }
    },
    {
      "cell_type": "markdown",
      "source": [
        "A subplot is a secondary strand of the plot that is a supporting side story for any story or for the main plot. Subplots may connect to main plots, in either time and place or thematic significance."
      ],
      "metadata": {
        "id": "8agQvks0phqQ"
      }
    },
    {
      "cell_type": "markdown",
      "source": [
        "##### 2. What is/are the insight(s) found from the chart?"
      ],
      "metadata": {
        "id": "tgIPom80phqQ"
      }
    },
    {
      "cell_type": "markdown",
      "source": [
        " It is clear that in the first 100 days of the lead time we have the highest cancelation. Also the density of the cancelation decreases as the lead time increases still the cancelation rate increases as the lead time increases.\n"
      ],
      "metadata": {
        "id": "Qp13pnNzphqQ"
      }
    },
    {
      "cell_type": "markdown",
      "source": [
        "##### 3. Will the gained insights help creating a positive business impact? \n",
        "Are there any insights that lead to negative growth? Justify with specific reason."
      ],
      "metadata": {
        "id": "JMzcOPDDphqR"
      }
    },
    {
      "cell_type": "markdown",
      "source": [
        "Answer Here"
      ],
      "metadata": {
        "id": "R4Ka1PC2phqR"
      }
    },
    {
      "cell_type": "markdown",
      "source": [
        "#### Chart - 11"
      ],
      "metadata": {
        "id": "x-EpHcCOp1ci"
      }
    },
    {
      "cell_type": "code",
      "source": [
        "# Chart - 11 visualization code\n",
        "reserved_room = df_not_canceled['reserved_room_type'].value_counts(normalize=True).rename_axis('reserved_room_type').reset_index(name='Booking % for Reserved room type')\n",
        "reserved_room[\"Booking % for Reserved room type\"] = reserved_room[\"Booking % for Reserved room type\"]*100"
      ],
      "metadata": {
        "id": "mAQTIvtqp1cj"
      },
      "execution_count": null,
      "outputs": []
    },
    {
      "cell_type": "code",
      "source": [
        "assigned_room = df_not_canceled['assigned_room_type'].value_counts(normalize=True).rename_axis('assigned_room_type').reset_index(name='Booking % for Assigned room type')\n",
        "assigned_room[\"Booking % for Assigned room type\"] = assigned_room[\"Booking % for Assigned room type\"]*100\n"
      ],
      "metadata": {
        "id": "-ZGbeuo1XSXs"
      },
      "execution_count": null,
      "outputs": []
    },
    {
      "cell_type": "code",
      "source": [
        "sns.set_style(\"whitegrid\")\n",
        "plt.figure(figsize=(20,10)) \n",
        "\n",
        "plt.subplot(1, 2, 1)\n",
        "sns.barplot(x='reserved_room_type', y='Booking % for Reserved room type', data= reserved_room)\n",
        "plt.title('Customer Reserved room type')\n",
        "\n",
        "plt.subplot(1,2,2)\n",
        "sns.barplot(x='assigned_room_type', y='Booking % for Assigned room type', data= assigned_room)\n",
        "plt.title('Customer Assigned Room Type');"
      ],
      "metadata": {
        "id": "2sRlDFUNXUVO"
      },
      "execution_count": null,
      "outputs": []
    },
    {
      "cell_type": "markdown",
      "source": [
        "##### 1. Why did you pick the specific chart?"
      ],
      "metadata": {
        "id": "X_VqEhTip1ck"
      }
    },
    {
      "cell_type": "markdown",
      "source": [
        "**Here we are showing bookings % and type so they are all diffirent categories that is why we used the bar graph**"
      ],
      "metadata": {
        "id": "-vsMzt_np1ck"
      }
    },
    {
      "cell_type": "markdown",
      "source": [
        "##### 2. What is/are the insight(s) found from the chart?"
      ],
      "metadata": {
        "id": "8zGJKyg5p1ck"
      }
    },
    {
      "cell_type": "markdown",
      "source": [
        "The Types of Reserved rooms are A, B, C, D, E, F, G, H, L.\n",
        "\n",
        "Room Type A & D seems very popular among the customers.\n",
        "\n",
        "The maximum bookings of around 66% are reserved for the room type A, followed by at 19% reserved for the room type D.\n",
        "\n",
        "The Types of Assigned rooms are A, B, C, D, E, F, G, H, I, K."
      ],
      "metadata": {
        "id": "ZYdMsrqVp1ck"
      }
    },
    {
      "cell_type": "markdown",
      "source": [
        "##### 3. Will the gained insights help creating a positive business impact? \n",
        "Are there any insights that lead to negative growth? Justify with specific reason."
      ],
      "metadata": {
        "id": "PVzmfK_Ep1ck"
      }
    },
    {
      "cell_type": "markdown",
      "source": [
        "The maximum bookings are assigned for the room type A i.e around 51% out of 66% of the reserved room type for A.\n",
        "\n"
      ],
      "metadata": {
        "id": "druuKYZpp1ck"
      }
    },
    {
      "cell_type": "markdown",
      "source": [
        "#### Chart - 12"
      ],
      "metadata": {
        "id": "n3dbpmDWp1ck"
      }
    },
    {
      "cell_type": "code",
      "source": [
        "# Chart - 12 visualization code"
      ],
      "metadata": {
        "id": "bwevp1tKp1ck"
      },
      "execution_count": null,
      "outputs": []
    },
    {
      "cell_type": "markdown",
      "source": [
        "##### 1. Why did you pick the specific chart?"
      ],
      "metadata": {
        "id": "ylSl6qgtp1ck"
      }
    },
    {
      "cell_type": "markdown",
      "source": [
        "Answer Here."
      ],
      "metadata": {
        "id": "m2xqNkiQp1ck"
      }
    },
    {
      "cell_type": "markdown",
      "source": [
        "##### 2. What is/are the insight(s) found from the chart?"
      ],
      "metadata": {
        "id": "ZWILFDl5p1ck"
      }
    },
    {
      "cell_type": "markdown",
      "source": [
        "Answer Here"
      ],
      "metadata": {
        "id": "x-lUsV2mp1ck"
      }
    },
    {
      "cell_type": "markdown",
      "source": [
        "##### 3. Will the gained insights help creating a positive business impact? \n",
        "Are there any insights that lead to negative growth? Justify with specific reason."
      ],
      "metadata": {
        "id": "M7G43BXep1ck"
      }
    },
    {
      "cell_type": "markdown",
      "source": [
        "Answer Here"
      ],
      "metadata": {
        "id": "5wwDJXsLp1cl"
      }
    },
    {
      "cell_type": "markdown",
      "source": [
        "#### Chart - 13"
      ],
      "metadata": {
        "id": "Ag9LCva-p1cl"
      }
    },
    {
      "cell_type": "code",
      "source": [
        "# Chart - 13 visualization code"
      ],
      "metadata": {
        "id": "EUfxeq9-p1cl"
      },
      "execution_count": null,
      "outputs": []
    },
    {
      "cell_type": "markdown",
      "source": [
        "##### 1. Why did you pick the specific chart?"
      ],
      "metadata": {
        "id": "E6MkPsBcp1cl"
      }
    },
    {
      "cell_type": "markdown",
      "source": [
        "Answer Here."
      ],
      "metadata": {
        "id": "V22bRsFWp1cl"
      }
    },
    {
      "cell_type": "markdown",
      "source": [
        "##### 2. What is/are the insight(s) found from the chart?"
      ],
      "metadata": {
        "id": "2cELzS2fp1cl"
      }
    },
    {
      "cell_type": "markdown",
      "source": [
        "Answer Here"
      ],
      "metadata": {
        "id": "ozQPc2_Ip1cl"
      }
    },
    {
      "cell_type": "markdown",
      "source": [
        "##### 3. Will the gained insights help creating a positive business impact? \n",
        "Are there any insights that lead to negative growth? Justify with specific reason."
      ],
      "metadata": {
        "id": "3MPXvC8up1cl"
      }
    },
    {
      "cell_type": "markdown",
      "source": [
        "Answer Here"
      ],
      "metadata": {
        "id": "GL8l1tdLp1cl"
      }
    },
    {
      "cell_type": "markdown",
      "source": [
        "#### Chart - 14 - Correlation Heatmap"
      ],
      "metadata": {
        "id": "NC_X3p0fY2L0"
      }
    },
    {
      "cell_type": "code",
      "source": [
        "# Correlation Heatmap visualization code"
      ],
      "metadata": {
        "id": "xyC9zolEZNRQ"
      },
      "execution_count": null,
      "outputs": []
    },
    {
      "cell_type": "markdown",
      "source": [
        "##### 1. Why did you pick the specific chart?"
      ],
      "metadata": {
        "id": "UV0SzAkaZNRQ"
      }
    },
    {
      "cell_type": "markdown",
      "source": [
        "Answer Here."
      ],
      "metadata": {
        "id": "DVPuT8LYZNRQ"
      }
    },
    {
      "cell_type": "markdown",
      "source": [
        "##### 2. What is/are the insight(s) found from the chart?"
      ],
      "metadata": {
        "id": "YPEH6qLeZNRQ"
      }
    },
    {
      "cell_type": "markdown",
      "source": [
        "Answer Here"
      ],
      "metadata": {
        "id": "bfSqtnDqZNRR"
      }
    },
    {
      "cell_type": "markdown",
      "source": [
        "#### Chart - 15 - Pair Plot "
      ],
      "metadata": {
        "id": "q29F0dvdveiT"
      }
    },
    {
      "cell_type": "code",
      "source": [
        "# Pair Plot visualization code"
      ],
      "metadata": {
        "id": "o58-TEIhveiU"
      },
      "execution_count": null,
      "outputs": []
    },
    {
      "cell_type": "markdown",
      "source": [
        "##### 1. Why did you pick the specific chart?"
      ],
      "metadata": {
        "id": "EXh0U9oCveiU"
      }
    },
    {
      "cell_type": "markdown",
      "source": [
        "Answer Here."
      ],
      "metadata": {
        "id": "eMmPjTByveiU"
      }
    },
    {
      "cell_type": "markdown",
      "source": [
        "##### 2. What is/are the insight(s) found from the chart?"
      ],
      "metadata": {
        "id": "22aHeOlLveiV"
      }
    },
    {
      "cell_type": "markdown",
      "source": [
        "Answer Here"
      ],
      "metadata": {
        "id": "uPQ8RGwHveiV"
      }
    },
    {
      "cell_type": "markdown",
      "source": [
        "## **5. Solution to Business Objective**"
      ],
      "metadata": {
        "id": "JcMwzZxoAimU"
      }
    },
    {
      "cell_type": "markdown",
      "source": [
        "#### What do you suggest the client to achieve Business Objective ? \n",
        "Explain Briefly."
      ],
      "metadata": {
        "id": "8G2x9gOozGDZ"
      }
    },
    {
      "cell_type": "markdown",
      "source": [
        "Answer Here."
      ],
      "metadata": {
        "id": "pASKb0qOza21"
      }
    },
    {
      "cell_type": "markdown",
      "source": [
        "# **Conclusion**"
      ],
      "metadata": {
        "id": "gCX9965dhzqZ"
      }
    },
    {
      "cell_type": "markdown",
      "source": [
        "We used the dataset that contains data about hotel bookings. We cleaned and preprocessed the data and then we performed the exploratory data analysis to extract information from the data to answer the following questions:\n",
        "\n",
        "**All questions**\n",
        "\n",
        "**All Insights**"
      ],
      "metadata": {
        "id": "Fjb1IsQkh3yE"
      }
    },
    {
      "cell_type": "markdown",
      "source": [
        "### ***Hurrah! You have successfully completed your EDA Capstone Project !!!***"
      ],
      "metadata": {
        "id": "gIfDvo9L0UH2"
      }
    }
  ]
}